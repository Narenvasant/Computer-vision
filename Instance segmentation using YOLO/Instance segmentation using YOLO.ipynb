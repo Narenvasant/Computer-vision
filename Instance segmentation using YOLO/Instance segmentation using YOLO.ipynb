{
 "cells": [
  {
   "cell_type": "code",
   "execution_count": null,
   "id": "2fac70b9",
   "metadata": {},
   "outputs": [],
   "source": [
    "#Training\n",
    "\n",
    "from ultralytics import YOLO\n",
    "model = YOLO('yolov8n-seg.pt')\n",
    "results = model.train(data='Instance_segmentation/data.yaml', epochs=100, imgsz=640)"
   ]
  },
  {
   "cell_type": "code",
   "execution_count": null,
   "id": "39f107c7",
   "metadata": {},
   "outputs": [],
   "source": [
    "#Plotting\n",
    "\n",
    "metrics = model.val()  # no arguments needed, dataset and settings remembered\n",
    "metrics.box.map    # map50-95(B)\n",
    "metrics.box.map50  # map50(B)\n",
    "metrics.box.map75  # map75(B)\n",
    "metrics.box.maps   # a list contains map50-95(B) of each category\n",
    "metrics.seg.map    # map50-95(M)\n",
    "metrics.seg.map50  # map50(M)\n",
    "metrics.seg.map75  # map75(M)\n",
    "metrics.seg.maps "
   ]
  },
  {
   "cell_type": "code",
   "execution_count": null,
   "id": "d6434324",
   "metadata": {},
   "outputs": [],
   "source": [
    "#Testing on random image\n",
    "\n",
    "from ultralytics import YOLO\n",
    "\n",
    "model = YOLO('runs/segment/train3/weights/best.pt')  # load a trained model\n",
    "\n",
    "results= model('5.png') #input image path\n",
    "\n",
    "from PIL import Image\n",
    "for r in results:    \n",
    "    im_array = r.plot()  # plot a BGR numpy array of predictions    \n",
    "    im = Image.fromarray(im_array[..., ::-1])  # RGB PIL image    \n",
    "    im.show()  # show image"
   ]
  }
 ],
 "metadata": {
  "kernelspec": {
   "display_name": "Python 3 (ipykernel)",
   "language": "python",
   "name": "python3"
  },
  "language_info": {
   "codemirror_mode": {
    "name": "ipython",
    "version": 3
   },
   "file_extension": ".py",
   "mimetype": "text/x-python",
   "name": "python",
   "nbconvert_exporter": "python",
   "pygments_lexer": "ipython3",
   "version": "3.11.5"
  }
 },
 "nbformat": 4,
 "nbformat_minor": 5
}
