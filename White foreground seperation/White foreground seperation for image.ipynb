{
 "cells": [
  {
   "cell_type": "code",
   "execution_count": null,
   "id": "02440a5d",
   "metadata": {},
   "outputs": [],
   "source": [
    "from ultralytics import YOLO\n",
    "import cv2\n",
    "import numpy as np\n",
    "\n",
    "# Load the YOLO model with error handling\n",
    "try:\n",
    "    model = YOLO('runs/segment/train3/weights/best.pt')\n",
    "except Exception as e:\n",
    "    print(f\"Error loading YOLO model: {e}\")\n",
    "    exit()\n",
    "\n",
    "# Perform object detection on the image\n",
    "try:\n",
    "    predict = model.predict(\"5.png\", save=True, save_txt=True) \n",
    "    mask = predict[0].masks[0].data.cpu().numpy()\n",
    "except Exception as e:\n",
    "    print(f\"Error performing object detection: {e}\")\n",
    "    exit()\n",
    "\n",
    "# Load the original image\n",
    "original_image = cv2.imread(\"5.png\")\n",
    "\n",
    "# Resize the mask to match the shape of the original image\n",
    "resized_mask = cv2.resize(mask[0], (original_image.shape[1], original_image.shape[0]))\n",
    "\n",
    "# Create a white background\n",
    "background_color = (255, 255, 255)  # Specify background color (white in BGR format)\n",
    "background = np.full_like(original_image, background_color)\n",
    "\n",
    "# Set the background outside the mask to the specified color\n",
    "background[resized_mask == 0] = background_color\n",
    "\n",
    "# Combine the object and background\n",
    "result_image = original_image.copy()\n",
    "result_image[resized_mask == 0] = background[resized_mask == 0]\n",
    "\n",
    "# Display the original image, masked object, and result image (for demonstration purposes)\n",
    "cv2.imshow(\"Original Image\", original_image)\n",
    "cv2.imshow(\"Object with white background\", result_image)\n",
    "\n",
    "# Wait for a key press or a timeout (e.g., 100 milliseconds)\n",
    "key = cv2.waitKey(0)\n",
    "\n",
    "# Check if the 'q' key is pressed (ASCII code 113)\n",
    "if key == 113:\n",
    "    cv2.destroyAllWindows()  # Release OpenCV windows\n",
    "\n",
    "# cv2.destroyAllWindows()\n"
   ]
  }
 ],
 "metadata": {
  "kernelspec": {
   "display_name": "Python 3 (ipykernel)",
   "language": "python",
   "name": "python3"
  },
  "language_info": {
   "codemirror_mode": {
    "name": "ipython",
    "version": 3
   },
   "file_extension": ".py",
   "mimetype": "text/x-python",
   "name": "python",
   "nbconvert_exporter": "python",
   "pygments_lexer": "ipython3",
   "version": "3.11.5"
  }
 },
 "nbformat": 4,
 "nbformat_minor": 5
}
