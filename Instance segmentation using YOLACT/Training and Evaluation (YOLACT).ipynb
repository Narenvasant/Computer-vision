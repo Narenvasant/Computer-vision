{
 "cells": [
  {
   "cell_type": "code",
   "execution_count": null,
   "id": "a109770b",
   "metadata": {},
   "outputs": [],
   "source": [
    "#Training\n",
    "\n",
    "# Trains using the base config with a batch size of 8 (the default).\n",
    "python train.py --config=yolact_base_config"
   ]
  },
  {
   "cell_type": "code",
   "execution_count": null,
   "id": "164cffb4",
   "metadata": {},
   "outputs": [],
   "source": [
    "#Quantitative results plot\n",
    "python eval.py --trained_model=weights/yolact_base_54_800000.pth\n",
    "\n",
    "\n",
    "#Evaluation on images\n",
    "python eval.py --trained_model=weights/yolact_base_54_800000.pth --score_threshold=0.15 --top_k=15 --image=my_image.png\n"
   ]
  }
 ],
 "metadata": {
  "kernelspec": {
   "display_name": "Python 3 (ipykernel)",
   "language": "python",
   "name": "python3"
  },
  "language_info": {
   "codemirror_mode": {
    "name": "ipython",
    "version": 3
   },
   "file_extension": ".py",
   "mimetype": "text/x-python",
   "name": "python",
   "nbconvert_exporter": "python",
   "pygments_lexer": "ipython3",
   "version": "3.11.5"
  }
 },
 "nbformat": 4,
 "nbformat_minor": 5
}
