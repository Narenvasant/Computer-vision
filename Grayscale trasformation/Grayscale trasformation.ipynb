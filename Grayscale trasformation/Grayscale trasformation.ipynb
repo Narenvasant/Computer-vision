{
 "cells": [
  {
   "cell_type": "code",
   "execution_count": null,
   "id": "ba7b7324",
   "metadata": {},
   "outputs": [],
   "source": [
    "from ultralytics import YOLO\n",
    "import numpy as np\n",
    "import os\n",
    "import cv2\n",
    "\n",
    "\n",
    "model = YOLO('runs/segment/train3/weights/best.pt') #load a trained model\n",
    "\n",
    "# Load the original image\n",
    "original_image = cv2.imread(\"5.png\")\n",
    "\n",
    "# Extract the mask from the results\n",
    "mask = predict[0].masks[0].data.cpu().numpy()\n",
    "\n",
    "# Resize the mask to match the shape of the original image\n",
    "resized_mask = cv2.resize(mask[0], (original_image.shape[1], original_image.shape[0]))\n",
    "\n",
    "# Apply the resized mask to the original image\n",
    "masked_image = original_image * np.expand_dims(resized_mask, axis=2)\n",
    "\n",
    "# Convert the masked region to grayscale\n",
    "grayscale_image = cv2.cvtColor(masked_image.astype(np.uint8), cv2.COLOR_BGR2GRAY)\n",
    "\n",
    "# Display the original, masked, and grayscale images (for demonstration purposes)\n",
    "cv2.imshow(\"Original Image\", original_image)\n",
    "cv2.imshow(\"Masked Image\", masked_image)\n",
    "cv2.imshow(\"Grayscale Image\", grayscale_image)\n",
    "cv2.waitKey(0)\n",
    "cv2.destroyAllWindows()\n"
   ]
  }
 ],
 "metadata": {
  "kernelspec": {
   "display_name": "Python 3 (ipykernel)",
   "language": "python",
   "name": "python3"
  },
  "language_info": {
   "codemirror_mode": {
    "name": "ipython",
    "version": 3
   },
   "file_extension": ".py",
   "mimetype": "text/x-python",
   "name": "python",
   "nbconvert_exporter": "python",
   "pygments_lexer": "ipython3",
   "version": "3.11.5"
  }
 },
 "nbformat": 4,
 "nbformat_minor": 5
}
