{
 "cells": [
  {
   "cell_type": "code",
   "execution_count": null,
   "id": "45928370",
   "metadata": {},
   "outputs": [],
   "source": [
    "from ultralytics import YOLO\n",
    "import cv2\n",
    "import numpy as np\n",
    "import os\n",
    "\n",
    "# Load the YOLO model with error handling\n",
    "try:\n",
    "    model = YOLO('runs/segment/train10/weights/best.pt')\n",
    "except Exception as e:\n",
    "    print(f\"Error loading YOLO model: {e}\")\n",
    "    exit()\n",
    "\n",
    "# Define a list of colors for each class\n",
    "colors = [(0, 0, 255), (0, 255, 0), (255, 0, 0), (255, 255, 0), (0, 255, 255)]  # Example colors, you can define your own\n",
    "\n",
    "# Iterate through each image in the folder\n",
    "for filename in os.listdir('test_segment'):\n",
    "    if filename.endswith('.png') or filename.endswith('.jpg'):\n",
    "        # Perform object detection on the image\n",
    "        try:\n",
    "            image_path = os.path.join('test_segment', filename)\n",
    "            predict = model.predict(image_path, save=True, save_txt=True)\n",
    "            masks = [mask.data.cpu().numpy() for mask in predict[0].masks]\n",
    "        except Exception as e:\n",
    "            print(f\"Error performing object detection on {filename}: {e}\")\n",
    "            continue\n",
    "\n",
    "        # Load the original image\n",
    "        original_image = cv2.imread(image_path)\n",
    "\n",
    "        # Create a white background\n",
    "        background_color = (255, 255, 255)  # Specify background color (white in BGR format)\n",
    "        background = np.full_like(original_image, background_color)\n",
    "\n",
    "        # Iterate through each mask and merge onto the white background with a different color for each class\n",
    "        for idx, mask in enumerate(masks):\n",
    "            # Resize the mask to match the shape of the original image\n",
    "            resized_mask = cv2.resize(mask[0], (original_image.shape[1], original_image.shape[0]))\n",
    "\n",
    "            # Convert the mask to binary\n",
    "            binary_mask = resized_mask > 0\n",
    "\n",
    "            # Apply the mask to the background using a different color for each class\n",
    "            color = colors[idx % len(colors)]\n",
    "            background[binary_mask] = color\n",
    "\n",
    "        # Display the result image\n",
    "        cv2.imshow(f\"Objects with colored background - {filename}\", background)\n",
    "\n",
    "# Wait for a key press or a timeout (e.g., 100 milliseconds)\n",
    "cv2.waitKey(0)\n",
    "\n",
    "# Close all OpenCV windows\n",
    "cv2.destroyAllWindows()\n"
   ]
  }
 ],
 "metadata": {
  "kernelspec": {
   "display_name": "Python 3 (ipykernel)",
   "language": "python",
   "name": "python3"
  },
  "language_info": {
   "codemirror_mode": {
    "name": "ipython",
    "version": 3
   },
   "file_extension": ".py",
   "mimetype": "text/x-python",
   "name": "python",
   "nbconvert_exporter": "python",
   "pygments_lexer": "ipython3",
   "version": "3.11.5"
  }
 },
 "nbformat": 4,
 "nbformat_minor": 5
}
