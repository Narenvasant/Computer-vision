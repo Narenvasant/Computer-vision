{
 "cells": [
  {
   "cell_type": "code",
   "execution_count": null,
   "id": "b9724e97",
   "metadata": {},
   "outputs": [],
   "source": [
    "#Training\n",
    "\n",
    "from ultralytics import YOLO\n",
    "\n",
    "model = YOLO('yolov8n-pose.pt')  # load a pretrained model (recommended for training)\n",
    "\n",
    "results = model.train(data='pose_data/data.yaml', epochs=100, imgsz=640)"
   ]
  },
  {
   "cell_type": "code",
   "execution_count": null,
   "id": "3988f42c",
   "metadata": {},
   "outputs": [],
   "source": [
    "#Test on an image\n",
    "\n",
    "from ultralytics import YOLO\n",
    "import numpy as np\n",
    "import os\n",
    "\n",
    "# Load a model\n",
    "model = YOLO('runs/pose/train37/weights/last.pt')  # load a custom model\n",
    "\n",
    "results = model('5.png')  # predict on an image\n",
    "\n",
    "from PIL import Image\n",
    "\n",
    "for r in results:\n",
    "    print(dir(r))\n",
    "    im_array = r.plot()  # plot a BGR numpy array of predictions    \n",
    "    im = Image.fromarray(im_array[..., ::-1])  # RGB PIL image    \n",
    "    im.show()  # show image"
   ]
  }
 ],
 "metadata": {
  "kernelspec": {
   "display_name": "Python 3 (ipykernel)",
   "language": "python",
   "name": "python3"
  },
  "language_info": {
   "codemirror_mode": {
    "name": "ipython",
    "version": 3
   },
   "file_extension": ".py",
   "mimetype": "text/x-python",
   "name": "python",
   "nbconvert_exporter": "python",
   "pygments_lexer": "ipython3",
   "version": "3.11.5"
  }
 },
 "nbformat": 4,
 "nbformat_minor": 5
}
