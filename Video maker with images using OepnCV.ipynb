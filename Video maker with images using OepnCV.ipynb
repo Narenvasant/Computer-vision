{
 "cells": [
  {
   "cell_type": "code",
   "execution_count": null,
   "id": "6a19ffc5",
   "metadata": {},
   "outputs": [],
   "source": [
    "import os\n",
    "import cv2\n",
    "\n",
    "# Define the folders containing the segmented images\n",
    "segmented_folders = [\n",
    "    '/home/dfki.uni-bremen.de/nvasantakumaar/dfki_0709/segmented_output/42546479',\n",
    "    '/home/dfki.uni-bremen.de/nvasantakumaar/dfki_0709/segmented_output/48345682'\n",
    "]\n",
    "\n",
    "# Function to create video from images in a folder\n",
    "def create_video_from_images(image_folder, output_video_path, fps=60):\n",
    "    images = [img for img in os.listdir(image_folder) if img.endswith((\".png\", \".jpg\", \".jpeg\"))]\n",
    "    images.sort()  # Sort images by name to ensure correct order\n",
    "\n",
    "    if not images:\n",
    "        print(f\"No images found in {image_folder}. Skipping.\")\n",
    "        return\n",
    "\n",
    "    # Get the size of the first image to set the video size\n",
    "    first_image_path = os.path.join(image_folder, images[0])\n",
    "    frame = cv2.imread(first_image_path)\n",
    "    height, width, _ = frame.shape\n",
    "\n",
    "    # Define the codec and create VideoWriter object\n",
    "    fourcc = cv2.VideoWriter_fourcc(*'mp4v')  # Define the codec for .mp4\n",
    "    video = cv2.VideoWriter(output_video_path, fourcc, fps, (width, height))\n",
    "\n",
    "    # Write each image to the video\n",
    "    for image_name in images:\n",
    "        image_path = os.path.join(image_folder, image_name)\n",
    "        frame = cv2.imread(image_path)\n",
    "        video.write(frame)\n",
    "\n",
    "    # Release the video writer\n",
    "    video.release()\n",
    "    print(f\"Video saved to {output_video_path}\")\n",
    "\n",
    "# Create videos for each segmented folder\n",
    "for folder in segmented_folders:\n",
    "    folder_name = os.path.basename(folder)  # Get the folder name\n",
    "    output_video_path = os.path.join(os.path.dirname(folder), f\"{folder_name}_segmented_video.mp4\")\n",
    "    create_video_from_images(folder, output_video_path)\n",
    "\n",
    "print(\"Video creation completed.\")\n"
   ]
  }
 ],
 "metadata": {
  "kernelspec": {
   "display_name": "Python 3 (ipykernel)",
   "language": "python",
   "name": "python3"
  },
  "language_info": {
   "codemirror_mode": {
    "name": "ipython",
    "version": 3
   },
   "file_extension": ".py",
   "mimetype": "text/x-python",
   "name": "python",
   "nbconvert_exporter": "python",
   "pygments_lexer": "ipython3",
   "version": "3.11.5"
  }
 },
 "nbformat": 4,
 "nbformat_minor": 5
}
